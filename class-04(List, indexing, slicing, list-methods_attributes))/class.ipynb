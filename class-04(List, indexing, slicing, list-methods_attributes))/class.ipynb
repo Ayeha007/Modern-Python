{
 "cells": [
  {
   "cell_type": "markdown",
   "metadata": {},
   "source": [
    "# List stores multiple values in a variable.\n",
    "* Advantages\n",
    "* Dynamic lenght (Unlimited)\n",
    "* Hytrogenous data type (Multiple types)\n",
    "* Indexing (used for taking value out)\n",
    "  * Positive 0 to n1\n",
    "  * Negitive -1 to lenght"
   ]
  },
  {
   "cell_type": "code",
   "execution_count": null,
   "metadata": {},
   "outputs": [],
   "source": [
    "# List variable name must be pural like names & its values called elements\n",
    "#          0       1        2\n",
    "names = ['Ali', 'Ammar', 'Hassan']\n",
    "names : str =\"\""
   ]
  }
 ],
 "metadata": {
  "language_info": {
   "name": "python"
  }
 },
 "nbformat": 4,
 "nbformat_minor": 2
}
