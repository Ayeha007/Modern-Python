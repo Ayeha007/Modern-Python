{
 "cells": [
  {
   "cell_type": "markdown",
   "metadata": {},
   "source": [
    "# List stores multiple values in a variable. \n",
    "* [ ] are used for list\n",
    "\n",
    "* Advantages\n",
    "* Dynamic length (Unlimited)\n",
    "* Hytrogenous data type (Multiple types)\n",
    "* Indexing (used for taking value out)\n",
    "  * Positive 0 to n-1\n",
    "  * Negitive -1 to length\n",
    "\n",
    "* Slicing\n",
    "  * Variable `names[start:end:step]`\n",
    "  * Start : int = Include\n",
    "  * End : int = n-1\n",
    "  * Step : int = Sequence"
   ]
  },
  {
   "cell_type": "code",
   "execution_count": 2,
   "metadata": {},
   "outputs": [
    {
     "name": "stdout",
     "output_type": "stream",
     "text": [
      "Ali\n",
      "Ali\n",
      "Ammar\n"
     ]
    }
   ],
   "source": [
    "# Old Method\n",
    "# List variable name must be pural like names & its values called elements, by default data is added in +ve \n",
    "# ->       0       1        2           positive indexing\n",
    "names = ['Ali', 'Ammar', 'Hassan']    # length -1 = last index\n",
    "# <-      -3      -2       -1           negitive indexing we dont use 0 in it\n",
    "print (names[0]) \n",
    "print (names[-3]) \n",
    "print (names[-2]) "
   ]
  },
  {
   "cell_type": "code",
   "execution_count": 3,
   "metadata": {},
   "outputs": [
    {
     "name": "stdout",
     "output_type": "stream",
     "text": [
      "Ali\n"
     ]
    }
   ],
   "source": [
    "# New Typed Method\n",
    "from typing import Any\n",
    "\n",
    "# ->       0       1        2           positive indexing\n",
    "names : list[any] = ['Ali', 'Ammar', 'Hassan']    # length -1 = last index\n",
    "# <-      -3      -2       -1           negitive indexing we dont use 0 in it\n",
    "print (names[-3]) \n"
   ]
  },
  {
   "cell_type": "code",
   "execution_count": 10,
   "metadata": {},
   "outputs": [
    {
     "name": "stdout",
     "output_type": "stream",
     "text": [
      "<class 'list'>\n",
      "<class 'str'>\n",
      "PIAIC Members hassan\n",
      "PIAIC Members HASSAN\n"
     ]
    }
   ],
   "source": [
    "# New Typed Method\n",
    "\n",
    "# ->                   0       1        2       \n",
    "names : list[any] = ['Ali', 'Ammar', 'hassan']    \n",
    "# <-      -3      -2       -1    \n",
    "\n",
    "print (type(names)) \n",
    "print (type(names[-2]))        \n",
    "print (f'PIAIC Members {names[-1]}') \n",
    "print (f'PIAIC Members {names[-1].upper()}') "
   ]
  },
  {
   "cell_type": "code",
   "execution_count": 12,
   "metadata": {},
   "outputs": [
    {
     "name": "stdout",
     "output_type": "stream",
     "text": [
      "<class 'list'>\n",
      "<class 'int'>\n",
      "PIAIC Members True\n",
      "PIAIC Members AMMAR\n"
     ]
    }
   ],
   "source": [
    "# New Typed Method\n",
    "\n",
    "# ->                   0       1        2      3    4    \n",
    "names : list[any] = ['Ali', 'Ammar', 'hassan', 20, True]    \n",
    "# <-                  -5      -4       -3      -2   -1    \n",
    "\n",
    "print (type(names)) \n",
    "print (type(names[-2]))        \n",
    "print (f'PIAIC Members {names[-1]}') \n",
    "print (f'PIAIC Members {names[-4].upper()}') "
   ]
  },
  {
   "cell_type": "code",
   "execution_count": 29,
   "metadata": {},
   "outputs": [
    {
     "data": {
      "text/plain": [
       "'abcdef'"
      ]
     },
     "execution_count": 29,
     "metadata": {},
     "output_type": "execute_result"
    }
   ],
   "source": [
    "'abcdef'"
   ]
  },
  {
   "cell_type": "code",
   "execution_count": 1,
   "metadata": {},
   "outputs": [
    {
     "data": {
      "text/plain": [
       "['A', 'n', 'y', 'a', 'b', 'c', 'd', 'e', 'f']"
      ]
     },
     "execution_count": 1,
     "metadata": {},
     "output_type": "execute_result"
    }
   ],
   "source": [
    "list(\"Anyabcdef\")\n"
   ]
  },
  {
   "cell_type": "code",
   "execution_count": 15,
   "metadata": {},
   "outputs": [
    {
     "name": "stdout",
     "output_type": "stream",
     "text": [
      "['A', 'B', 'C', 'D', 'E', 'F', 'G', 'H', 'I', 'J', 'K', 'L', 'M', 'N', 'O', 'P', 'Q', 'R', 'S', 'T', 'U', 'V', 'W', 'Y', 'Z']\n"
     ]
    }
   ],
   "source": [
    "characters : list[str] = list(\"ABCDEFGHIJKLMNOPQRSTUVWYZ\")\n",
    "print(characters)"
   ]
  },
  {
   "cell_type": "code",
   "execution_count": 5,
   "metadata": {},
   "outputs": [
    {
     "name": "stdout",
     "output_type": "stream",
     "text": [
      "('A', 'B')\n"
     ]
    }
   ],
   "source": [
    "#                              1                                                                                                                       25\n",
    "characters : list[str] = ('A', 'B', 'C', 'D', 'E', 'F', 'G', 'H', 'I', 'J', 'K', 'L', 'M', 'N', 'O', 'P', 'Q', 'R', 'S', 'T', 'U', 'V', 'W', 'Y', 'Z')\n",
    "#                             -26                                                                                                                      -1\n",
    "print(characters[0:2]) # 0 = include : 2-1 =1"
   ]
  }
 ],
 "metadata": {
  "kernelspec": {
   "display_name": "base",
   "language": "python",
   "name": "python3"
  },
  "language_info": {
   "codemirror_mode": {
    "name": "ipython",
    "version": 3
   },
   "file_extension": ".py",
   "mimetype": "text/x-python",
   "name": "python",
   "nbconvert_exporter": "python",
   "pygments_lexer": "ipython3",
   "version": "3.12.0"
  }
 },
 "nbformat": 4,
 "nbformat_minor": 2
}
