{
 "cells": [
  {
   "cell_type": "code",
   "execution_count": 1,
   "metadata": {},
   "outputs": [
    {
     "ename": "NameError",
     "evalue": "name 'name' is not defined",
     "output_type": "error",
     "traceback": [
      "\u001b[1;31m---------------------------------------------------------------------------\u001b[0m",
      "\u001b[1;31mNameError\u001b[0m                                 Traceback (most recent call last)",
      "\u001b[1;32md:\\Modern Python\\class-02\\class.ipynb Cell 1\u001b[0m line \u001b[0;36m1\n\u001b[1;32m----> <a href='vscode-notebook-cell:/d%3A/Modern%20Python/class-02/class.ipynb#W0sZmlsZQ%3D%3D?line=0'>1</a>\u001b[0m \u001b[39mprint\u001b[39m (name)\n",
      "\u001b[1;31mNameError\u001b[0m: name 'name' is not defined"
     ]
    }
   ],
   "source": [
    "print (name)"
   ]
  },
  {
   "cell_type": "code",
   "execution_count": 2,
   "metadata": {},
   "outputs": [
    {
     "name": "stdout",
     "output_type": "stream",
     "text": [
      "Ayesha\n"
     ]
    }
   ],
   "source": [
    "name : str = \"Ayesha\"\n",
    "print (name)\n"
   ]
  },
  {
   "cell_type": "markdown",
   "metadata": {},
   "source": [
    "# String data type in python"
   ]
  },
  {
   "cell_type": "code",
   "execution_count": 4,
   "metadata": {},
   "outputs": [
    {
     "name": "stdout",
     "output_type": "stream",
     "text": [
      "<class 'str'>\n",
      "Ayesha\n"
     ]
    }
   ],
   "source": [
    "# 1st method & Boundries\n",
    "# \"string text\",\"\"string text\"\",\"\"\"string text\"\"\" , 'string text',''string text'' ,'''string text'''\n",
    "# `string text` works in typescript not working in python\n",
    "\n",
    "name : str = \"Ayesha\" \n",
    "print(type(name)) \n",
    "print(name)"
   ]
  },
  {
   "cell_type": "code",
   "execution_count": 6,
   "metadata": {},
   "outputs": [
    {
     "ename": "SyntaxError",
     "evalue": "unterminated string literal (detected at line 1) (197887960.py, line 1)",
     "output_type": "error",
     "traceback": [
      "\u001b[1;36m  Cell \u001b[1;32mIn[6], line 1\u001b[1;36m\u001b[0m\n\u001b[1;33m    messange : str = 'student Name /n father's Name'\u001b[0m\n\u001b[1;37m                                                   ^\u001b[0m\n\u001b[1;31mSyntaxError\u001b[0m\u001b[1;31m:\u001b[0m unterminated string literal (detected at line 1)\n"
     ]
    }
   ],
   "source": [
    "messange : str = 'student Name \\n father's Name'"
   ]
  },
  {
   "cell_type": "code",
   "execution_count": 9,
   "metadata": {},
   "outputs": [
    {
     "name": "stdout",
     "output_type": "stream",
     "text": [
      "student Name \n",
      " father's Name\n"
     ]
    }
   ],
   "source": [
    "# \\n new line\n",
    "message : str = \"student Name \\n father's Name\"\n",
    "print(message)"
   ]
  },
  {
   "cell_type": "code",
   "execution_count": 11,
   "metadata": {},
   "outputs": [
    {
     "name": "stdout",
     "output_type": "stream",
     "text": [
      "\"student Name\" \n",
      " father Name\n"
     ]
    }
   ],
   "source": [
    "message : str = '\"student Name\" \\n father Name'\n",
    "print(message)"
   ]
  },
  {
   "cell_type": "code",
   "execution_count": 12,
   "metadata": {},
   "outputs": [
    {
     "name": "stdout",
     "output_type": "stream",
     "text": [
      "student Name \n",
      " father's Name\n"
     ]
    }
   ],
   "source": [
    "# convert any special charcter into simple charater by placing \\ before the charater\n",
    "message : str = \"student Name \\n father\\'s Name\" # check \\before the s\n",
    "print(message)"
   ]
  },
  {
   "cell_type": "code",
   "execution_count": 13,
   "metadata": {},
   "outputs": [
    {
     "data": {
      "text/plain": [
       "'abc'"
      ]
     },
     "execution_count": 13,
     "metadata": {},
     "output_type": "execute_result"
    }
   ],
   "source": [
    "\"a\" + \"b\" + \"c\" # + is concatinating the 2 strings"
   ]
  },
  {
   "cell_type": "code",
   "execution_count": 17,
   "metadata": {},
   "outputs": [
    {
     "ename": "TypeError",
     "evalue": "can only concatenate str (not \"int\") to str",
     "output_type": "error",
     "traceback": [
      "\u001b[1;31m---------------------------------------------------------------------------\u001b[0m",
      "\u001b[1;31mTypeError\u001b[0m                                 Traceback (most recent call last)",
      "\u001b[1;32md:\\Modern Python\\class-02\\class.ipynb Cell 10\u001b[0m line \u001b[0;36m1\n\u001b[1;32m----> <a href='vscode-notebook-cell:/d%3A/Modern%20Python/class-02/class.ipynb#X20sZmlsZQ%3D%3D?line=0'>1</a>\u001b[0m \u001b[39m\"\u001b[39;49m\u001b[39ma\u001b[39;49m\u001b[39m\"\u001b[39;49m \u001b[39m+\u001b[39;49m \u001b[39m8\u001b[39;49m \n",
      "\u001b[1;31mTypeError\u001b[0m: can only concatenate str (not \"int\") to str"
     ]
    }
   ],
   "source": [
    "\"a\" + 8 "
   ]
  },
  {
   "cell_type": "code",
   "execution_count": null,
   "metadata": {},
   "outputs": [],
   "source": [
    "# we can change integer into string by using these methods \n",
    "\"a\" + \"8\" \n",
    "\"a\" + str(8)\n"
   ]
  },
  {
   "cell_type": "code",
   "execution_count": 5,
   "metadata": {},
   "outputs": [
    {
     "name": "stdout",
     "output_type": "stream",
     "text": [
      "<class 'str'>\n",
      "Ayesha\n"
     ]
    }
   ],
   "source": [
    "# 1st method & Boundries\n",
    "# \"string text\",\"\"string text\"\",\"\"\"string text\"\"\" , 'string text',''string text'' ,'''string text'''\n",
    "# `string text` works in typescript not working in python\n",
    "\n",
    "name : str = 'Ayesha'\n",
    "print(type(name)) \n",
    "print(name)"
   ]
  },
  {
   "cell_type": "code",
   "execution_count": 20,
   "metadata": {},
   "outputs": [
    {
     "name": "stdout",
     "output_type": "stream",
     "text": [
      "Piaic Student Card\n",
      "Student Name: Ali\n",
      "Age: 28\n"
     ]
    }
   ],
   "source": [
    "# 1st method & Boundries\n",
    "# \"string text\",\"\"string text\"\",\"\"\"string text\"\"\" , 'string text',''string text'' ,'''string text'''\n",
    "# `string text` works in typescript not working in python\n",
    "\n",
    "name : str = 'Ali'\n",
    "fname : str =\"Abdullah\"\n",
    "education : str = \"Master in blockchain\"\n",
    "age : int = 28\n",
    "\n",
    "card : str = \"Piaic Student Card\\nStudent Name: \" + name + \"\\nAge: \" + str(age)\n",
    "\n",
    "print(card) \n"
   ]
  },
  {
   "cell_type": "code",
   "execution_count": 1,
   "metadata": {},
   "outputs": [
    {
     "name": "stdout",
     "output_type": "stream",
     "text": [
      "Piaic Student Card\n",
      "Student Name: Ali\n",
      "Age: 28\n",
      "Education: Master in blockchain\n"
     ]
    }
   ],
   "source": [
    "# 1st method & Boundries\n",
    "# \"string text\",\"\"string text\"\",\"\"\"string text\"\"\" , 'string text',''string text'' ,'''string text'''\n",
    "# `string text` works in typescript not working in python\n",
    "\n",
    "name : str = 'Ali'\n",
    "fname : str =\"Abdullah\"\n",
    "education : str = \"Master in blockchain\"\n",
    "age : int = 28\n",
    "\n",
    "card : str = \"Piaic Student Card\\nStudent Name: \" + name +\\\n",
    "      \"\\nAge: \" + str(age) + \"\\n\"+\\\n",
    "      \"Education: \" + education\n",
    "\n",
    "print(card) "
   ]
  },
  {
   "cell_type": "code",
   "execution_count": 21,
   "metadata": {},
   "outputs": [
    {
     "name": "stdout",
     "output_type": "stream",
     "text": [
      "16\n"
     ]
    }
   ],
   "source": [
    "print(3 + 4 + 9)"
   ]
  },
  {
   "cell_type": "markdown",
   "metadata": {},
   "source": [
    "# For line continue use \\"
   ]
  },
  {
   "cell_type": "code",
   "execution_count": 26,
   "metadata": {},
   "outputs": [
    {
     "name": "stdout",
     "output_type": "stream",
     "text": [
      "16\n"
     ]
    }
   ],
   "source": [
    "# for new lines may be due to spacing issue\n",
    "print(3 + \\\n",
    "      4 + \\\n",
    "      9)  "
   ]
  },
  {
   "cell_type": "markdown",
   "metadata": {},
   "source": [
    "# Define multiline String by using \"\"\" \"\"\" , ''' '''"
   ]
  },
  {
   "cell_type": "code",
   "execution_count": 7,
   "metadata": {},
   "outputs": [
    {
     "name": "stdout",
     "output_type": "stream",
     "text": [
      "\n",
      "PIAIC Student Card\n",
      "Student Name: ....\n",
      "Father's Name: ...\n",
      "Age: ...\n",
      "Education: ... \n"
     ]
    }
   ],
   "source": [
    "# By using \"\"\" \"\"\" we can show text in multiline & dont need to add \\n or \\ for new line\n",
    "\n",
    "name : str = 'Ali'\n",
    "fname : str =\"Abdullah\"\n",
    "education : str = \"Master in blockchain\"\n",
    "age : int = 28\n",
    "\n",
    "card : str = \"\"\"\n",
    "PIAIC Student Card\n",
    "Student Name: ....\n",
    "Father's Name: ...\n",
    "Age: ...\n",
    "Education: ... \"\"\"\n",
    "\n",
    "print(card)"
   ]
  },
  {
   "cell_type": "markdown",
   "metadata": {},
   "source": [
    "# F-string Python"
   ]
  },
  {
   "cell_type": "code",
   "execution_count": 9,
   "metadata": {},
   "outputs": [
    {
     "name": "stdout",
     "output_type": "stream",
     "text": [
      "\n",
      "PIAIC Student Card\n",
      "Student Name : Ali\n",
      "Father's Name : Abdullah\n",
      "Age : 28\n",
      "Education : Master in blockchain \n"
     ]
    }
   ],
   "source": [
    "# 1st F-string benefit Use for multiline text & variable input\n",
    "# by adding f in start \"\" & after the = will allow us to show variable value, then to show variable value use {} \n",
    "# u can pass variable name inside {}, but in Ts we r using `` for multiline & $ sign for showing variable name\n",
    "\n",
    "name : str = 'Ali'\n",
    "fname : str = \"Abdullah\"\n",
    "education : str = \"Master in blockchain\"\n",
    "age : int = 28\n",
    "\n",
    "card : str = f\"\"\"\n",
    "PIAIC Student Card\n",
    "Student Name : {name}\n",
    "Father's Name : {fname}\n",
    "Age : {age}\n",
    "Education : {education} \"\"\"\n",
    "\n",
    "print(card)"
   ]
  },
  {
   "cell_type": "code",
   "execution_count": 10,
   "metadata": {},
   "outputs": [
    {
     "name": "stdout",
     "output_type": "stream",
     "text": [
      "\n",
      "PIAIC Student Card\n",
      "Student Name : Ali\n",
      "Father's Name : Abdullah\n",
      "Age : 28\n",
      "Education : Master in blockchain \n",
      "\n",
      "total : 141\n",
      "\n"
     ]
    }
   ],
   "source": [
    "# 2nd F-string benefit Use for adding or performing any function or expression inside the {}\n",
    "# by adding f in start \"\" & after the = will allow us to show variable value, then to show variable value use {} \n",
    "# u can pass variable name inside {}, but in Ts we r using `` for multiline & $ sign for showing variable name\n",
    "\n",
    "name : str = 'Ali'\n",
    "fname : str = \"Abdullah\"\n",
    "education : str = \"Master in blockchain\"\n",
    "age : int = 28\n",
    "\n",
    "card : str = f'''\n",
    "PIAIC Student Card\n",
    "Student Name : {name}\n",
    "Father's Name : {fname}\n",
    "Age : {age}\n",
    "Education : {education} \n",
    "\n",
    "total : {35 + 8 + 98}\n",
    "'''\n",
    "\n",
    "print(card)"
   ]
  },
  {
   "cell_type": "markdown",
   "metadata": {},
   "source": [
    "# F-string & Jinja Style Formating"
   ]
  },
  {
   "cell_type": "code",
   "execution_count": 11,
   "metadata": {},
   "outputs": [
    {
     "data": {
      "text/plain": [
       "'\\nstudent name Ali\\n'"
      ]
     },
     "execution_count": 11,
     "metadata": {},
     "output_type": "execute_result"
    }
   ],
   "source": [
    "# F-string style (mostly used style)\n",
    "f\"\"\"\n",
    "student name {name}\n",
    "\"\"\""
   ]
  },
  {
   "cell_type": "code",
   "execution_count": null,
   "metadata": {},
   "outputs": [],
   "source": [
    "# Jinja style works on server when html page loads, it shows result there , used {{}} \n",
    "f\"\"\"\n",
    "student name {{name}}\n",
    "\"\"\""
   ]
  },
  {
   "cell_type": "code",
   "execution_count": null,
   "metadata": {},
   "outputs": [],
   "source": [
    "name : str = 'Ali'\n",
    "fname : str = \"Abdullah\"\n",
    "education : str = \"Master in blockchain\"\n",
    "age : int = 28\n",
    "\n",
    "#basic method for concatination in C++\n",
    "card : str = f\"\"\"\n",
    "PIAIC Student Card\n",
    "Student Name : %s\n",
    "Father's Name : %s\n",
    "Age : %d\n",
    "Education : %s\n",
    "\n",
    "\"\"\" % {name, fname, age, education}\n",
    "\n",
    "print(card)"
   ]
  },
  {
   "cell_type": "code",
   "execution_count": 15,
   "metadata": {},
   "outputs": [
    {
     "data": {
      "text/plain": [
       "['__add__',\n",
       " '__class__',\n",
       " '__contains__',\n",
       " '__delattr__',\n",
       " '__dir__',\n",
       " '__doc__',\n",
       " '__eq__',\n",
       " '__format__',\n",
       " '__ge__',\n",
       " '__getattribute__',\n",
       " '__getitem__',\n",
       " '__getnewargs__',\n",
       " '__getstate__',\n",
       " '__gt__',\n",
       " '__hash__',\n",
       " '__init__',\n",
       " '__init_subclass__',\n",
       " '__iter__',\n",
       " '__le__',\n",
       " '__len__',\n",
       " '__lt__',\n",
       " '__mod__',\n",
       " '__mul__',\n",
       " '__ne__',\n",
       " '__new__',\n",
       " '__reduce__',\n",
       " '__reduce_ex__',\n",
       " '__repr__',\n",
       " '__rmod__',\n",
       " '__rmul__',\n",
       " '__setattr__',\n",
       " '__sizeof__',\n",
       " '__str__',\n",
       " '__subclasshook__',\n",
       " 'capitalize',\n",
       " 'casefold',\n",
       " 'center',\n",
       " 'count',\n",
       " 'encode',\n",
       " 'endswith',\n",
       " 'expandtabs',\n",
       " 'find',\n",
       " 'format',\n",
       " 'format_map',\n",
       " 'index',\n",
       " 'isalnum',\n",
       " 'isalpha',\n",
       " 'isascii',\n",
       " 'isdecimal',\n",
       " 'isdigit',\n",
       " 'isidentifier',\n",
       " 'islower',\n",
       " 'isnumeric',\n",
       " 'isprintable',\n",
       " 'isspace',\n",
       " 'istitle',\n",
       " 'isupper',\n",
       " 'join',\n",
       " 'ljust',\n",
       " 'lower',\n",
       " 'lstrip',\n",
       " 'maketrans',\n",
       " 'partition',\n",
       " 'removeprefix',\n",
       " 'removesuffix',\n",
       " 'replace',\n",
       " 'rfind',\n",
       " 'rindex',\n",
       " 'rjust',\n",
       " 'rpartition',\n",
       " 'rsplit',\n",
       " 'rstrip',\n",
       " 'split',\n",
       " 'splitlines',\n",
       " 'startswith',\n",
       " 'strip',\n",
       " 'swapcase',\n",
       " 'title',\n",
       " 'translate',\n",
       " 'upper',\n",
       " 'zfill']"
      ]
     },
     "execution_count": 15,
     "metadata": {},
     "output_type": "execute_result"
    }
   ],
   "source": [
    "dir(str)"
   ]
  },
  {
   "cell_type": "code",
   "execution_count": 16,
   "metadata": {},
   "outputs": [
    {
     "data": {
      "text/plain": [
       "['capitalize',\n",
       " 'casefold',\n",
       " 'center',\n",
       " 'count',\n",
       " 'encode',\n",
       " 'endswith',\n",
       " 'expandtabs',\n",
       " 'find',\n",
       " 'format',\n",
       " 'index',\n",
       " 'isalnum',\n",
       " 'isalpha',\n",
       " 'isascii',\n",
       " 'isdecimal',\n",
       " 'isdigit',\n",
       " 'isidentifier',\n",
       " 'islower',\n",
       " 'isnumeric',\n",
       " 'isprintable',\n",
       " 'isspace',\n",
       " 'istitle',\n",
       " 'isupper',\n",
       " 'join',\n",
       " 'ljust',\n",
       " 'lower',\n",
       " 'lstrip',\n",
       " 'maketrans',\n",
       " 'partition',\n",
       " 'removeprefix',\n",
       " 'removesuffix',\n",
       " 'replace',\n",
       " 'rfind',\n",
       " 'rindex',\n",
       " 'rjust',\n",
       " 'rpartition',\n",
       " 'rsplit',\n",
       " 'rstrip',\n",
       " 'split',\n",
       " 'splitlines',\n",
       " 'startswith',\n",
       " 'strip',\n",
       " 'swapcase',\n",
       " 'title',\n",
       " 'translate',\n",
       " 'upper',\n",
       " 'zfill']"
      ]
     },
     "execution_count": 16,
     "metadata": {},
     "output_type": "execute_result"
    }
   ],
   "source": [
    "[i for i in dir(str) if not \"_\" in i ] # string methods "
   ]
  },
  {
   "cell_type": "code",
   "execution_count": 26,
   "metadata": {},
   "outputs": [
    {
     "name": "stdout",
     "output_type": "stream",
     "text": [
      "Ayesha hussain\n",
      "ayesha hussain\n",
      "AYESHA HUSSAIN\n",
      "AyeShA hUsSaIN\n",
      "Ayesha Hussain\n"
     ]
    }
   ],
   "source": [
    "name : str =\"aYEsHa HuSsAin\"\n",
    "\n",
    "print(name.capitalize())\n",
    "print(name.lower())\n",
    "print(name.upper())\n",
    "print(name.swapcase())\n",
    "print(name.title())\n"
   ]
  },
  {
   "cell_type": "code",
   "execution_count": 27,
   "metadata": {},
   "outputs": [
    {
     "data": {
      "text/plain": [
       "'math value a = 9 & valu b = 5'"
      ]
     },
     "execution_count": 27,
     "metadata": {},
     "output_type": "execute_result"
    }
   ],
   "source": [
    "# f-string method part new\n",
    "a = 9\n",
    "b = 5\n",
    "\n",
    "# {} place holder\n",
    "#               0             1         0,1\n",
    "'math value a = {} & valu b = {}'.format(a,b)"
   ]
  },
  {
   "cell_type": "code",
   "execution_count": 28,
   "metadata": {},
   "outputs": [
    {
     "name": "stdout",
     "output_type": "stream",
     "text": [
      "\n",
      "PIAIC Student Card\n",
      "Student Name : Ali\n",
      "Father's Name : Abdullah\n",
      "Age : Master in blockchain\n",
      "Education : 28 \n",
      "\n",
      "\n"
     ]
    }
   ],
   "source": [
    "name : str = 'Ali'\n",
    "fname : str = \"Abdullah\"\n",
    "education : str = \"Master in blockchain\"\n",
    "age : int = 28\n",
    "\n",
    "card : str = '''\n",
    "PIAIC Student Card\n",
    "Student Name : {}\n",
    "Father's Name : {}\n",
    "Age : {}\n",
    "Education : {} \n",
    "\n",
    "'''.format(name, fname, education, age)#if we use formate method shows wrong info if we put \n",
    "         # 0        1      2        3     #any wrong value in index, see results . much better use f string method\n",
    "print(card)"
   ]
  },
  {
   "cell_type": "code",
   "execution_count": 30,
   "metadata": {},
   "outputs": [
    {
     "name": "stdout",
     "output_type": "stream",
     "text": [
      "\n",
      "PIAIC Student Card\n",
      "Student Name : Ali\n",
      "Father's Name : Abdullah\n",
      "Age : 28\n",
      "Education : Master in blockchain \n",
      "\n",
      "\n"
     ]
    }
   ],
   "source": [
    "name : str = 'Ali'\n",
    "fname : str = \"Abdullah\"\n",
    "education : str = \"Master in blockchain\"\n",
    "age : int = 28\n",
    "\n",
    "card : str = '''\n",
    "PIAIC Student Card\n",
    "Student Name : {1}\n",
    "Father's Name : {0}\n",
    "Age : {3}\n",
    "Education : {2} \n",
    "\n",
    "'''.format(fname, name, education, age)#if we use formate method shows wrong info if we put any wrong value in index\n",
    "         # 0        1      2        3     #see results.but if add index in {} it resolve the issue\n",
    "print(card)"
   ]
  },
  {
   "cell_type": "markdown",
   "metadata": {},
   "source": [
    "# Recommended Below 2 F-String Methods "
   ]
  },
  {
   "cell_type": "code",
   "execution_count": 1,
   "metadata": {},
   "outputs": [
    {
     "name": "stdout",
     "output_type": "stream",
     "text": [
      "\n",
      "PIAIC Student Card\n",
      "Student Name : Ali\n",
      "Father's Name : Abdullah\n",
      "Age : 28\n",
      "Education : Master in blockchain \n",
      "\n",
      "\n"
     ]
    }
   ],
   "source": [
    "name : str = 'Ali'\n",
    "fname : str = \"Abdullah\"\n",
    "education : str = \"Master in blockchain\"\n",
    "age : int = 28\n",
    "\n",
    "card : str = '''\n",
    "PIAIC Student Card\n",
    "Student Name : {a}\n",
    "Father's Name : {b}\n",
    "Age : {c}\n",
    "Education : {d} \n",
    "\n",
    "'''.format(b = fname, a = name, d = education, c = age)#if we use formate method shows wrong info if we put any wrong value in index\n",
    "                                                       #see results.but if add index in {} it resolve the issue\n",
    "print(card)"
   ]
  },
  {
   "cell_type": "code",
   "execution_count": null,
   "metadata": {},
   "outputs": [],
   "source": [
    "name : str = 'Ali'\n",
    "fname : str = \"Abdullah\"\n",
    "education : str = \"Master in blockchain\"\n",
    "age : int = 28\n",
    "\n",
    "#basic method for concatination in C++\n",
    "card : str = f\"\"\"\n",
    "PIAIC Student Card\n",
    "Student Name : %s\n",
    "Father's Name : %s\n",
    "Age : %d\n",
    "Education : %s\n",
    "\n",
    "\"\"\" % {name, fname, age, education}\n",
    "\n",
    "print(card)"
   ]
  },
  {
   "cell_type": "code",
   "execution_count": 2,
   "metadata": {},
   "outputs": [
    {
     "name": "stdout",
     "output_type": "stream",
     "text": [
      "Ayesha\n",
      "13\n"
     ]
    }
   ],
   "source": [
    "student_code : str = \"\"\"\n",
    "print(\"Ayesha\")\n",
    "a : int = 4\n",
    "b : int = 9\n",
    "print(a + b)\n",
    "\"\"\"\n",
    "exec(student_code)"
   ]
  },
  {
   "cell_type": "markdown",
   "metadata": {},
   "source": [
    "# String Method & Attribute\n",
    " Pre-Define Global Methods we have used,\n",
    "\n",
    "* Print\n",
    "* Type\n",
    "* Id\n",
    "* Dir\n",
    "* Len"
   ]
  },
  {
   "cell_type": "code",
   "execution_count": 3,
   "metadata": {},
   "outputs": [
    {
     "name": "stdout",
     "output_type": "stream",
     "text": [
      "['capitalize', 'casefold', 'center', 'count', 'encode', 'endswith', 'expandtabs', 'find', 'format', 'index', 'isalnum', 'isalpha', 'isascii', 'isdecimal', 'isdigit', 'isidentifier', 'islower', 'isnumeric', 'isprintable', 'isspace', 'istitle', 'isupper', 'join', 'ljust', 'lower', 'lstrip', 'maketrans', 'partition', 'removeprefix', 'removesuffix', 'replace', 'rfind', 'rindex', 'rjust', 'rpartition', 'rsplit', 'rstrip', 'split', 'splitlines', 'startswith', 'strip', 'swapcase', 'title', 'translate', 'upper', 'zfill']\n",
      "46\n"
     ]
    }
   ],
   "source": [
    "a : list[str] = [i for i in dir(str) if not \"_\" in i ] # string methods \n",
    "print(a)\n",
    "print(len(a))"
   ]
  },
  {
   "cell_type": "code",
   "execution_count": 2,
   "metadata": {},
   "outputs": [
    {
     "name": "stdout",
     "output_type": "stream",
     "text": [
      "Ayesha hussain\n"
     ]
    }
   ],
   "source": [
    "name : str = \"ayeShA HussaIn\"\n",
    "# variable name.() takes arguments\n",
    "print(name.capitalize())"
   ]
  },
  {
   "cell_type": "code",
   "execution_count": 3,
   "metadata": {},
   "outputs": [
    {
     "name": "stdout",
     "output_type": "stream",
     "text": [
      "ayeShA HussaIn\n",
      "ayesha hussain\n"
     ]
    }
   ],
   "source": [
    "name : str = \"ayeShA HussaIn\"\n",
    "# casefold applies no case, by default shows small letter\n",
    "print(name)\n",
    "print(name.casefold())"
   ]
  },
  {
   "cell_type": "code",
   "execution_count": 4,
   "metadata": {},
   "outputs": [
    {
     "name": "stdout",
     "output_type": "stream",
     "text": [
      "ayesha hussain\n"
     ]
    }
   ],
   "source": [
    "name : str = \"ayeShA HussaIn\"\n",
    "\n",
    "print(name.lower())"
   ]
  },
  {
   "cell_type": "code",
   "execution_count": 6,
   "metadata": {},
   "outputs": [
    {
     "data": {
      "text/plain": [
       "'             ayeShA HussaIn            '"
      ]
     },
     "metadata": {},
     "output_type": "display_data"
    },
    {
     "data": {
      "text/plain": [
       "'ayeShA HussaIn            '"
      ]
     },
     "metadata": {},
     "output_type": "display_data"
    }
   ],
   "source": [
    "name : str = \"             ayeShA HussaIn            \"\n",
    "\n",
    "# L-strip removes all spaces from left side , dont cover center space \n",
    "# display function,showing results with list, string or data frame format & print shows in string format\n",
    "# better use display , shows good format result in jupiter notebook\n",
    "\n",
    "display(name)\n",
    "display(name.lstrip())"
   ]
  },
  {
   "cell_type": "code",
   "execution_count": 7,
   "metadata": {},
   "outputs": [
    {
     "data": {
      "text/plain": [
       "'             ayeShA HussaIn            '"
      ]
     },
     "metadata": {},
     "output_type": "display_data"
    },
    {
     "data": {
      "text/plain": [
       "'             ayeShA HussaIn'"
      ]
     },
     "metadata": {},
     "output_type": "display_data"
    }
   ],
   "source": [
    "name : str = \"             ayeShA HussaIn            \"\n",
    "\n",
    "# R-strip removes all spaces from right side , dont cover center space \n",
    "\n",
    "display(name)\n",
    "display(name.rstrip())"
   ]
  },
  {
   "cell_type": "code",
   "execution_count": 9,
   "metadata": {},
   "outputs": [
    {
     "data": {
      "text/plain": [
       "'             ayeShA    HussaIn            '"
      ]
     },
     "metadata": {},
     "output_type": "display_data"
    },
    {
     "data": {
      "text/plain": [
       "'ayeShA    HussaIn'"
      ]
     },
     "metadata": {},
     "output_type": "display_data"
    }
   ],
   "source": [
    "name : str = \"             ayeShA    HussaIn            \"\n",
    "\n",
    "# strip removes all spaces from right & left side , dont cover center space \n",
    "\n",
    "display(name)\n",
    "display(name.strip())"
   ]
  },
  {
   "cell_type": "code",
   "execution_count": 13,
   "metadata": {},
   "outputs": [
    {
     "data": {
      "text/plain": [
       "'    ayeShA     HussaIn    '"
      ]
     },
     "metadata": {},
     "output_type": "display_data"
    },
    {
     "data": {
      "text/plain": [
       "' ayeShA HussaIn '"
      ]
     },
     "metadata": {},
     "output_type": "display_data"
    },
    {
     "data": {
      "text/plain": [
       "'ayeShA HussaIn'"
      ]
     },
     "metadata": {},
     "output_type": "display_data"
    }
   ],
   "source": [
    "import re     #re means regix\n",
    "name : str = \"    ayeShA     HussaIn    \"\n",
    "\n",
    "display(name)\n",
    "\n",
    "# sub means subtitute 1st pattern, 2nd replacement, 3rd variable , 2 & 100 means cover space limit\n",
    "# use strip for removing space from right & left\n",
    "\n",
    "name1 : str = re.sub(' {2,100}',' ', name)\n",
    "display(name1)\n",
    "\n",
    "name1 : str = re.sub(' {2,100}',' ', name).strip()\n",
    "display(name1)"
   ]
  },
  {
   "cell_type": "code",
   "execution_count": 14,
   "metadata": {},
   "outputs": [
    {
     "name": "stdout",
     "output_type": "stream",
     "text": [
      "Ayesha Hussain\n"
     ]
    }
   ],
   "source": [
    "name : str = \"ayeShA huSsaIn\"\n",
    "\n",
    "# convert 1st letter into capital\n",
    "\n",
    "print(name.title())"
   ]
  },
  {
   "cell_type": "code",
   "execution_count": 15,
   "metadata": {},
   "outputs": [
    {
     "name": "stdout",
     "output_type": "stream",
     "text": [
      "ADA LOVELACE\n",
      "ada lovelace\n"
     ]
    }
   ],
   "source": [
    "name : str = \"Ada Lovelace\"\n",
    "print(name.upper())\n",
    "print(name.lower())"
   ]
  },
  {
   "cell_type": "code",
   "execution_count": 17,
   "metadata": {},
   "outputs": [
    {
     "name": "stdout",
     "output_type": "stream",
     "text": [
      "ada lovelace\n",
      "Hello, Ada Lovelace!\n"
     ]
    }
   ],
   "source": [
    "first_name : str = \"ada\"\n",
    "last_name : str = \"lovelace\"\n",
    "full_name : str = f\"{first_name} {last_name}\"\n",
    "print(full_name)\n",
    "\n",
    "print(f\"Hello, {full_name.title()}!\")"
   ]
  },
  {
   "cell_type": "markdown",
   "metadata": {},
   "source": [
    "# Special Meaning Character\n",
    " * \\n     new line\n",
    " * \\b     back space remove\n",
    " * \\t     tab space"
   ]
  },
  {
   "cell_type": "code",
   "execution_count": 19,
   "metadata": {},
   "outputs": [
    {
     "name": "stdout",
     "output_type": "stream",
     "text": [
      "Name : \t\t Ayesha Hussain\n",
      "Name : \n",
      " Ayesha Hussain\n",
      "Name  Ayesha Hussain\n"
     ]
    }
   ],
   "source": [
    "print(\"Name : \\t\\t Ayesha Hussain\")\n",
    "print(\"Name : \\n Ayesha Hussain\")\n",
    "print(\"Name :\\b Ayesha Hussain\")"
   ]
  },
  {
   "cell_type": "code",
   "execution_count": 20,
   "metadata": {},
   "outputs": [
    {
     "data": {
      "text/plain": [
       "'nostarch.com'"
      ]
     },
     "execution_count": 20,
     "metadata": {},
     "output_type": "execute_result"
    }
   ],
   "source": [
    "nostarch_url : str = 'https://nostarch.com'\n",
    "nostarch_url.removeprefix('https://')     # prefix remove words from start, suffix removes from end "
   ]
  },
  {
   "cell_type": "code",
   "execution_count": 22,
   "metadata": {},
   "outputs": [
    {
     "ename": "SyntaxError",
     "evalue": "invalid decimal literal (1334396435.py, line 1)",
     "output_type": "error",
     "traceback": [
      "\u001b[1;36m  Cell \u001b[1;32mIn[22], line 1\u001b[1;36m\u001b[0m\n\u001b[1;33m    1name : str = \"Ada Lovelace\"\u001b[0m\n\u001b[1;37m    ^\u001b[0m\n\u001b[1;31mSyntaxError\u001b[0m\u001b[1;31m:\u001b[0m invalid decimal literal\n"
     ]
    }
   ],
   "source": [
    "1name : str = \"Ada Lovelace\"\n",
    "print(1name)"
   ]
  },
  {
   "cell_type": "code",
   "execution_count": 23,
   "metadata": {},
   "outputs": [
    {
     "name": "stdout",
     "output_type": "stream",
     "text": [
      "Ada Lovelace\n"
     ]
    }
   ],
   "source": [
    "_1name : str = \"Ada Lovelace\"\n",
    "print(_1name)"
   ]
  },
  {
   "cell_type": "code",
   "execution_count": 24,
   "metadata": {},
   "outputs": [
    {
     "ename": "SyntaxError",
     "evalue": "invalid syntax (2929401030.py, line 1)",
     "output_type": "error",
     "traceback": [
      "\u001b[1;36m  Cell \u001b[1;32mIn[24], line 1\u001b[1;36m\u001b[0m\n\u001b[1;33m    piaic student name : str = \"Ada Lovelace\"\u001b[0m\n\u001b[1;37m          ^\u001b[0m\n\u001b[1;31mSyntaxError\u001b[0m\u001b[1;31m:\u001b[0m invalid syntax\n"
     ]
    }
   ],
   "source": [
    "piaic student name : str = \"Ada Lovelace\"\n",
    "print(piaic student name)"
   ]
  },
  {
   "cell_type": "code",
   "execution_count": 25,
   "metadata": {},
   "outputs": [
    {
     "name": "stdout",
     "output_type": "stream",
     "text": [
      "Ada Lovelace\n"
     ]
    }
   ],
   "source": [
    "piaic_student_name : str = \"Ada Lovelace\"\n",
    "print(piaic_student_name)"
   ]
  }
 ],
 "metadata": {
  "kernelspec": {
   "display_name": "python12",
   "language": "python",
   "name": "python3"
  },
  "language_info": {
   "codemirror_mode": {
    "name": "ipython",
    "version": 3
   },
   "file_extension": ".py",
   "mimetype": "text/x-python",
   "name": "python",
   "nbconvert_exporter": "python",
   "pygments_lexer": "ipython3",
   "version": "3.12.0"
  }
 },
 "nbformat": 4,
 "nbformat_minor": 2
}
